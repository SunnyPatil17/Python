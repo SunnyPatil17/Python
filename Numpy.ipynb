{
 "cells": [
  {
   "cell_type": "code",
   "execution_count": 1,
   "metadata": {},
   "outputs": [
    {
     "name": "stdout",
     "output_type": "stream",
     "text": [
      "[1 2 3]\n",
      "[1 2 3]\n"
     ]
    }
   ],
   "source": [
    "import numpy as np\n",
    "a = np.array([1,2,3]) # passed as list\n",
    "b = np.array((1,2,3)) # passed as tupple\n",
    "print(a)\n",
    "print(b)"
   ]
  },
  {
   "cell_type": "code",
   "execution_count": 2,
   "metadata": {},
   "outputs": [
    {
     "data": {
      "text/plain": [
       "array([1, 4, 3])"
      ]
     },
     "execution_count": 2,
     "metadata": {},
     "output_type": "execute_result"
    }
   ],
   "source": [
    "b[1] = 4 # array using numpy is editable\n",
    "b"
   ]
  },
  {
   "cell_type": "code",
   "execution_count": 3,
   "metadata": {},
   "outputs": [
    {
     "name": "stdout",
     "output_type": "stream",
     "text": [
      "[[1 2 3]\n",
      " [4 5 6]]\n"
     ]
    }
   ],
   "source": [
    "c = np.array([[1,2,3],[4,5,6]])\n",
    "print(c)"
   ]
  },
  {
   "cell_type": "code",
   "execution_count": 4,
   "metadata": {},
   "outputs": [
    {
     "data": {
      "text/plain": [
       "array([1, 2, 3])"
      ]
     },
     "execution_count": 4,
     "metadata": {},
     "output_type": "execute_result"
    }
   ],
   "source": [
    "c[0]"
   ]
  },
  {
   "cell_type": "code",
   "execution_count": 5,
   "metadata": {},
   "outputs": [
    {
     "data": {
      "text/plain": [
       "array([4, 5, 6])"
      ]
     },
     "execution_count": 5,
     "metadata": {},
     "output_type": "execute_result"
    }
   ],
   "source": [
    "c[1]"
   ]
  },
  {
   "cell_type": "code",
   "execution_count": 6,
   "metadata": {},
   "outputs": [
    {
     "data": {
      "text/plain": [
       "array([1, 2, 3])"
      ]
     },
     "execution_count": 6,
     "metadata": {},
     "output_type": "execute_result"
    }
   ],
   "source": [
    "a[0:]"
   ]
  },
  {
   "cell_type": "code",
   "execution_count": 8,
   "metadata": {},
   "outputs": [
    {
     "data": {
      "text/plain": [
       "array([1, 4, 3])"
      ]
     },
     "execution_count": 8,
     "metadata": {},
     "output_type": "execute_result"
    }
   ],
   "source": [
    "b[0:]"
   ]
  },
  {
   "cell_type": "code",
   "execution_count": 9,
   "metadata": {},
   "outputs": [
    {
     "data": {
      "text/plain": [
       "numpy.ndarray"
      ]
     },
     "execution_count": 9,
     "metadata": {},
     "output_type": "execute_result"
    }
   ],
   "source": [
    "type(a)"
   ]
  },
  {
   "cell_type": "code",
   "execution_count": 10,
   "metadata": {},
   "outputs": [
    {
     "name": "stdout",
     "output_type": "stream",
     "text": [
      "[[0. 0. 0. 0.]\n",
      " [0. 0. 0. 0.]\n",
      " [0. 0. 0. 0.]]\n"
     ]
    }
   ],
   "source": [
    "d = np.zeros((3,4)) # np.zeros((row,column))\n",
    "print(d)"
   ]
  },
  {
   "cell_type": "code",
   "execution_count": 11,
   "metadata": {},
   "outputs": [
    {
     "name": "stdout",
     "output_type": "stream",
     "text": [
      "[10 15 20]\n"
     ]
    }
   ],
   "source": [
    "e = np.arange(10,25,5)\n",
    "print(e)"
   ]
  },
  {
   "cell_type": "code",
   "execution_count": 12,
   "metadata": {},
   "outputs": [
    {
     "name": "stdout",
     "output_type": "stream",
     "text": [
      "[10 12 14 16 18]\n"
     ]
    }
   ],
   "source": [
    "# np.arrange(startnum,endnum,interval)\n",
    "# startnum till endnum-interval\n",
    "f = np.arange(10,20,2)\n",
    "print(f)"
   ]
  },
  {
   "cell_type": "code",
   "execution_count": 13,
   "metadata": {},
   "outputs": [
    {
     "name": "stdout",
     "output_type": "stream",
     "text": [
      "[5.         5.11111111 5.22222222 5.33333333 5.44444444 5.55555556\n",
      " 5.66666667 5.77777778 5.88888889 6.        ]\n"
     ]
    }
   ],
   "source": [
    "# np.linspace(startnum,endnum,numberofpoints)\n",
    "g = np.linspace(5,6,10)\n",
    "print(g)"
   ]
  },
  {
   "cell_type": "code",
   "execution_count": 14,
   "metadata": {},
   "outputs": [
    {
     "name": "stdout",
     "output_type": "stream",
     "text": [
      "[[5 5 5 5]\n",
      " [5 5 5 5]\n",
      " [5 5 5 5]]\n"
     ]
    }
   ],
   "source": [
    "# Creating array with same number\n",
    "# np.full((rownum,colnum,numbertofill))\n",
    "h = np.full((3,4),5)\n",
    "print(h)"
   ]
  },
  {
   "cell_type": "code",
   "execution_count": 15,
   "metadata": {},
   "outputs": [
    {
     "name": "stdout",
     "output_type": "stream",
     "text": [
      "[[0.63288678 0.66020983 0.11121014 0.46794838]\n",
      " [0.93570833 0.9835373  0.11345945 0.14555243]\n",
      " [0.34321112 0.84730637 0.47907846 0.69096039]]\n"
     ]
    }
   ],
   "source": [
    "i = np.random.random((3,4))\n",
    "print(i)"
   ]
  },
  {
   "cell_type": "code",
   "execution_count": 16,
   "metadata": {},
   "outputs": [
    {
     "name": "stdout",
     "output_type": "stream",
     "text": [
      "(3, 4)\n"
     ]
    }
   ],
   "source": [
    "print(h.shape) # np.array.shape return tuple (rownum, colnum)"
   ]
  },
  {
   "cell_type": "code",
   "execution_count": 17,
   "metadata": {},
   "outputs": [
    {
     "name": "stdout",
     "output_type": "stream",
     "text": [
      "Before : [[1 2 3]\n",
      " [4 5 6]]\n",
      "After : [[1 2]\n",
      " [3 4]\n",
      " [5 6]]\n"
     ]
    }
   ],
   "source": [
    "j = np.array([[1,2,3],[4,5,6]])\n",
    "print(\"Before :\", j)\n",
    "j.shape = (3,2)\n",
    "print(\"After :\",j)"
   ]
  },
  {
   "cell_type": "code",
   "execution_count": 18,
   "metadata": {},
   "outputs": [
    {
     "name": "stdout",
     "output_type": "stream",
     "text": [
      "3\n",
      "2\n"
     ]
    }
   ],
   "source": [
    "print(j.shape[0])\n",
    "print(j.shape[1])"
   ]
  },
  {
   "cell_type": "code",
   "execution_count": 19,
   "metadata": {},
   "outputs": [
    {
     "name": "stdout",
     "output_type": "stream",
     "text": [
      "[ 0  1  2  3  4  5  6  7  8  9 10 11 12 13 14 15 16 17 18 19 20 21 22 23]\n",
      "24\n"
     ]
    }
   ],
   "source": [
    "# np.arange(numberofpointsneeded)\n",
    "# will place the number between 0 till (that number -1)\n",
    "k = np.arange(24)\n",
    "print(k)\n",
    "print(k.size)"
   ]
  },
  {
   "cell_type": "code",
   "execution_count": 20,
   "metadata": {},
   "outputs": [
    {
     "name": "stdout",
     "output_type": "stream",
     "text": [
      "(3, 2)\n",
      "2\n",
      "int32\n"
     ]
    }
   ],
   "source": [
    "print(j.shape) # returns shape of the array\n",
    "print(j.ndim) # returns dimension of the array\n",
    "print(j.dtype) # returns type of elements in the array (Homogenous Array)"
   ]
  },
  {
   "cell_type": "code",
   "execution_count": 21,
   "metadata": {},
   "outputs": [
    {
     "name": "stdout",
     "output_type": "stream",
     "text": [
      "[5.  5.2 5.4 5.6 5.8 6.  6.2 6.4 6.6 6.8 7. ]\n"
     ]
    }
   ],
   "source": [
    "l = np.linspace(5,7,11)\n",
    "print(l)"
   ]
  },
  {
   "cell_type": "code",
   "execution_count": 22,
   "metadata": {},
   "outputs": [
    {
     "name": "stdout",
     "output_type": "stream",
     "text": [
      "result of np.sum(m)- 15\n",
      "result of sum(m)- 15\n"
     ]
    }
   ],
   "source": [
    "m = np.array([5,10])\n",
    "print('result of np.sum(m)-',np.sum(m))\n",
    "print('result of sum(m)-',sum(m))\n"
   ]
  },
  {
   "cell_type": "code",
   "execution_count": 23,
   "metadata": {},
   "outputs": [
    {
     "name": "stdout",
     "output_type": "stream",
     "text": [
      "[3 7]\n",
      "[ 7 13]\n"
     ]
    }
   ],
   "source": [
    "n = np.array([2,3])\n",
    "print(np.subtract(m,n)) # subtract two arrays\n",
    "print(np.add(m,n)) # add two arrays"
   ]
  },
  {
   "cell_type": "code",
   "execution_count": 24,
   "metadata": {},
   "outputs": [
    {
     "data": {
      "text/plain": [
       "array([15,  5])"
      ]
     },
     "execution_count": 24,
     "metadata": {},
     "output_type": "execute_result"
    }
   ],
   "source": [
    "np.sum([m,n], axis = 1)"
   ]
  },
  {
   "cell_type": "code",
   "execution_count": 25,
   "metadata": {},
   "outputs": [
    {
     "name": "stdout",
     "output_type": "stream",
     "text": [
      "[2.5        3.33333333]\n"
     ]
    }
   ],
   "source": [
    "print(np.divide(m,n))"
   ]
  },
  {
   "cell_type": "code",
   "execution_count": 26,
   "metadata": {},
   "outputs": [
    {
     "name": "stdout",
     "output_type": "stream",
     "text": [
      "[10 30]\n"
     ]
    }
   ],
   "source": [
    "print(np.multiply(m,n))"
   ]
  },
  {
   "cell_type": "code",
   "execution_count": 27,
   "metadata": {},
   "outputs": [
    {
     "name": "stdout",
     "output_type": "stream",
     "text": [
      "[  148.4131591  22026.46579481]\n"
     ]
    }
   ],
   "source": [
    "print(np.exp(m))"
   ]
  },
  {
   "cell_type": "code",
   "execution_count": 28,
   "metadata": {},
   "outputs": [
    {
     "name": "stdout",
     "output_type": "stream",
     "text": [
      "[2.23606798 3.16227766]\n"
     ]
    }
   ],
   "source": [
    "print(np.sqrt(m))"
   ]
  },
  {
   "cell_type": "code",
   "execution_count": 29,
   "metadata": {},
   "outputs": [
    {
     "name": "stdout",
     "output_type": "stream",
     "text": [
      "[-0.95892427 -0.54402111]\n"
     ]
    }
   ],
   "source": [
    "print(np.sin(m))"
   ]
  },
  {
   "cell_type": "code",
   "execution_count": 30,
   "metadata": {},
   "outputs": [
    {
     "name": "stdout",
     "output_type": "stream",
     "text": [
      "[ 0.28366219 -0.83907153]\n"
     ]
    }
   ],
   "source": [
    "print(np.cos(m))"
   ]
  },
  {
   "cell_type": "code",
   "execution_count": 31,
   "metadata": {},
   "outputs": [
    {
     "name": "stdout",
     "output_type": "stream",
     "text": [
      "[1.60943791 2.30258509]\n"
     ]
    }
   ],
   "source": [
    "print(np.log(m))"
   ]
  },
  {
   "cell_type": "code",
   "execution_count": 32,
   "metadata": {},
   "outputs": [
    {
     "name": "stdout",
     "output_type": "stream",
     "text": [
      "comparision between o and p - [ True  True  True]\n",
      "comparision between o and q - [False False False]\n"
     ]
    }
   ],
   "source": [
    "o = [1,2,3]\n",
    "p = [1,2,3]\n",
    "q = [4,5,6]\n",
    "\n",
    "print('comparision between o and p -', np.equal(o,p))\n",
    "print('comparision between o and q -', np.equal(o,q))"
   ]
  },
  {
   "cell_type": "code",
   "execution_count": 33,
   "metadata": {},
   "outputs": [
    {
     "name": "stdout",
     "output_type": "stream",
     "text": [
      "True\n",
      "False\n"
     ]
    }
   ],
   "source": [
    "print(np.array_equal(o,p))\n",
    "print(np.array_equal(o,q))"
   ]
  },
  {
   "cell_type": "code",
   "execution_count": 34,
   "metadata": {},
   "outputs": [
    {
     "name": "stdout",
     "output_type": "stream",
     "text": [
      "6\n",
      "1\n",
      "3\n",
      "2.0\n",
      "0.816496580927726\n",
      "2.0\n",
      "1.0\n"
     ]
    }
   ],
   "source": [
    "r = np.array([1,2,3])\n",
    "print(np.sum(r))\n",
    "print(np.min(r))\n",
    "print(np.max(r))\n",
    "print(np.mean(r))\n",
    "print(np.std(r))\n",
    "print(np.median(r))\n",
    "print(np.corrcoef(r))"
   ]
  },
  {
   "cell_type": "code",
   "execution_count": 35,
   "metadata": {},
   "outputs": [
    {
     "name": "stdout",
     "output_type": "stream",
     "text": [
      "21\n",
      "1\n",
      "6\n",
      "3.5\n",
      "1.707825127659933\n",
      "3.5\n",
      "[[1. 1.]\n",
      " [1. 1.]]\n"
     ]
    }
   ],
   "source": [
    "s = np.array([[1,2,3],[4,5,6]])\n",
    "print(np.sum(s))\n",
    "print(np.min(s))\n",
    "print(np.max(s))\n",
    "print(np.mean(s))\n",
    "print(np.std(s))\n",
    "print(np.median(s))\n",
    "print(np.corrcoef(s))"
   ]
  },
  {
   "cell_type": "code",
   "execution_count": 37,
   "metadata": {},
   "outputs": [
    {
     "name": "stdout",
     "output_type": "stream",
     "text": [
      "[[1 2 3]\n",
      " [4 5 6]]\n",
      "[3 4 5]\n",
      "[[ 4  6  8]\n",
      " [ 7  9 11]]\n",
      "[[-2 -2 -2]\n",
      " [ 1  1  1]]\n",
      "[[ 4  6  8]\n",
      " [ 7  9 11]]\n"
     ]
    }
   ],
   "source": [
    "t = np.array([[1,2,3],[4,5,6]])\n",
    "u = np.array([3,4,5])\n",
    "print(t)\n",
    "print(u)\n",
    "print(np.sum([t,u]))\n",
    "print(np.subtract(t,u))\n",
    "print(np.add(t,u))"
   ]
  },
  {
   "cell_type": "code",
   "execution_count": 38,
   "metadata": {},
   "outputs": [
    {
     "data": {
      "text/plain": [
       "array([[ True,  True,  True],\n",
       "       [ True,  True,  True]])"
      ]
     },
     "execution_count": 38,
     "metadata": {},
     "output_type": "execute_result"
    }
   ],
   "source": [
    "np.equal(np.sum([t,u]),np.add(t,u)) # np.sum & np.add comparission to check result of both are same"
   ]
  },
  {
   "cell_type": "code",
   "execution_count": 39,
   "metadata": {},
   "outputs": [
    {
     "name": "stdout",
     "output_type": "stream",
     "text": [
      "First result [1 2 3]\n",
      "Second result [[1 2 3]]\n",
      "Third result [4 5 6]\n",
      "forth result [[4 5 6]\n",
      " [7 8 9]]\n"
     ]
    }
   ],
   "source": [
    "v = np.array([[1,2,3],[4,5,6],[7,8,9]])\n",
    "print('First result', v[0])\n",
    "print('Second result', v[:1])\n",
    "print('Third result', v[1])\n",
    "print('forth result', v[1:])"
   ]
  },
  {
   "cell_type": "code",
   "execution_count": 85,
   "metadata": {},
   "outputs": [
    {
     "name": "stdout",
     "output_type": "stream",
     "text": [
      "[[1 2 3]\n",
      " [4 5 6]\n",
      " [7 8 9]]\n",
      "[[4 5 6]\n",
      " [7 8 9]]\n",
      "[[7 8 9]]\n"
     ]
    }
   ],
   "source": [
    "print(v[0:]) # v[0:] displays all elements from r0 to r(n-1) of n dimentional matrix\n",
    "print(v[1:]) # v[1:] displays all elements from r1 and r(n-1) of n dimentional matrix\n",
    "print(v[2:]) # v[2:] displays all elements from r2 and r(n-1) of n dimentional matrix"
   ]
  },
  {
   "cell_type": "code",
   "execution_count": 86,
   "metadata": {},
   "outputs": [
    {
     "name": "stdout",
     "output_type": "stream",
     "text": [
      "[]\n"
     ]
    }
   ],
   "source": [
    "# v[3:] displays all elements from r3 and r(n-1) of n dimentional matrix\n",
    "# result will be blank array since v is 3 dimentional matrix and hence there is only r0 to r2. \n",
    "# No r3 available for array v\n",
    "print(v[3:]) "
   ]
  },
  {
   "cell_type": "code",
   "execution_count": 89,
   "metadata": {},
   "outputs": [
    {
     "name": "stdout",
     "output_type": "stream",
     "text": [
      "[[1 2 3]]\n",
      "[[1 2 3]\n",
      " [4 5 6]]\n",
      "[[1 2 3]\n",
      " [4 5 6]\n",
      " [7 8 9]]\n"
     ]
    }
   ],
   "source": [
    "print(v[:1]) # v[:1] displays all elements of r0\n",
    "print(v[:2]) # v[:2] displays all elements of r0 and r1\n",
    "print(v[:3]) # v[:3] displays all elements of r0, r1 and r2"
   ]
  },
  {
   "cell_type": "code",
   "execution_count": 94,
   "metadata": {},
   "outputs": [
    {
     "name": "stdout",
     "output_type": "stream",
     "text": [
      "[[1 2 3]\n",
      " [4 5 6]\n",
      " [7 8 9]]\n"
     ]
    }
   ],
   "source": [
    "# v[:4] displays all elements of r0 to r3. \n",
    "# Here in v array there is only 3 rows r0 to r2. Hence for v[:n] where n >= 3 the output is same as v[:3]\n",
    "print(v[:6])"
   ]
  },
  {
   "cell_type": "code",
   "execution_count": 97,
   "metadata": {},
   "outputs": [
    {
     "name": "stdout",
     "output_type": "stream",
     "text": [
      "[[5 6]\n",
      " [8 9]]\n"
     ]
    }
   ],
   "source": [
    "print(v[1:,1:]) # displays elements from r1&r2 and c1&c2"
   ]
  },
  {
   "cell_type": "code",
   "execution_count": 99,
   "metadata": {},
   "outputs": [
    {
     "name": "stdout",
     "output_type": "stream",
     "text": [
      "[[1]]\n"
     ]
    }
   ],
   "source": [
    "print(v[:1,:1]) # displays element from r0 and c0"
   ]
  },
  {
   "cell_type": "code",
   "execution_count": 102,
   "metadata": {},
   "outputs": [
    {
     "name": "stdout",
     "output_type": "stream",
     "text": [
      "[[4]\n",
      " [7]]\n",
      "[[7 8]]\n"
     ]
    }
   ],
   "source": [
    "print(v[1:,:1]) # displays elements from r1&r2 and c0\n",
    "print(v[2:,:2]) # displays elements from r2 and c0&c1"
   ]
  },
  {
   "cell_type": "code",
   "execution_count": 104,
   "metadata": {},
   "outputs": [
    {
     "name": "stdout",
     "output_type": "stream",
     "text": [
      "[[7]]\n",
      "[[7 8 9]]\n"
     ]
    }
   ],
   "source": [
    "print(v[2:,:1]) # displays elements from r2 and c0\n",
    "print(v[2:,:3]) # displays elements from r2 and c0,c1&c2"
   ]
  },
  {
   "cell_type": "code",
   "execution_count": 111,
   "metadata": {},
   "outputs": [],
   "source": [
    "w = np.array([[1,2,3],[4,5,6]])\n",
    "x = np.array([[3,4,5],[6,7,8]])"
   ]
  },
  {
   "cell_type": "code",
   "execution_count": 110,
   "metadata": {},
   "outputs": [
    {
     "data": {
      "text/plain": [
       "array([[1, 2, 3],\n",
       "       [4, 5, 6],\n",
       "       [3, 4, 5],\n",
       "       [6, 7, 8]])"
      ]
     },
     "execution_count": 110,
     "metadata": {},
     "output_type": "execute_result"
    }
   ],
   "source": [
    "np.concatenate([w,x], axis=0) # array w and x are row-wise stacked when axis = 0"
   ]
  },
  {
   "cell_type": "code",
   "execution_count": 112,
   "metadata": {},
   "outputs": [
    {
     "data": {
      "text/plain": [
       "array([[1, 2, 3, 3, 4, 5],\n",
       "       [4, 5, 6, 6, 7, 8]])"
      ]
     },
     "execution_count": 112,
     "metadata": {},
     "output_type": "execute_result"
    }
   ],
   "source": [
    "np.concatenate([w,x], axis=1) # array w and x are column-wise stacked when axis = 1"
   ]
  },
  {
   "cell_type": "code",
   "execution_count": 129,
   "metadata": {},
   "outputs": [],
   "source": [
    "y = [1,2,3]\n",
    "z = [4,5,6]"
   ]
  },
  {
   "cell_type": "code",
   "execution_count": 119,
   "metadata": {},
   "outputs": [
    {
     "name": "stdout",
     "output_type": "stream",
     "text": [
      "[[1 2 3]\n",
      " [4 5 6]]\n",
      "[[1 4]\n",
      " [2 5]\n",
      " [3 6]]\n"
     ]
    }
   ],
   "source": [
    "# stack only takes 1D array into account\n",
    "print(np.stack((y,z), axis=0)) # row-wise stacked when axis = 0 \n",
    "print(np.stack((y,z), axis=1)) # column-wise stacked when axis = 1"
   ]
  },
  {
   "cell_type": "code",
   "execution_count": 127,
   "metadata": {},
   "outputs": [
    {
     "name": "stdout",
     "output_type": "stream",
     "text": [
      "[[1 2 3 3 4 5]\n",
      " [4 5 6 6 7 8]]\n"
     ]
    }
   ],
   "source": [
    "print(np.hstack((w,x))) # Horizontal stacking"
   ]
  },
  {
   "cell_type": "code",
   "execution_count": 122,
   "metadata": {},
   "outputs": [
    {
     "name": "stdout",
     "output_type": "stream",
     "text": [
      "[[1 2 3]\n",
      " [4 5 6]\n",
      " [3 4 5]\n",
      " [6 7 8]]\n"
     ]
    }
   ],
   "source": [
    "print(np.vstack((w,x))) # Vertical stacking"
   ]
  },
  {
   "cell_type": "code",
   "execution_count": 132,
   "metadata": {},
   "outputs": [
    {
     "name": "stdout",
     "output_type": "stream",
     "text": [
      "The array is-------\n",
      "[[1 2 3]\n",
      " [4 5 6]]\n",
      "result when array is splitted----\n",
      "[array([[1, 2, 3]]), array([[4, 5, 6]])]\n"
     ]
    }
   ],
   "source": [
    "# np.split(array,index,axis)\n",
    "# where array can be any numpy array\n",
    "# where index can be either integer or list. \n",
    "\n",
    "aa = np.array([[1,2,3],[4,5,6]])\n",
    "print('The array is-------')\n",
    "print(aa)\n",
    "print('result when array is splitted----')\n",
    "print(np.split(aa,2,axis = 0)) # split the array aa into 2 arrays. Axis = 0 : split based on rows"
   ]
  },
  {
   "cell_type": "code",
   "execution_count": 136,
   "metadata": {},
   "outputs": [
    {
     "name": "stdout",
     "output_type": "stream",
     "text": [
      "[array([[1],\n",
      "       [4]]), array([[2],\n",
      "       [5]]), array([[3],\n",
      "       [6]])]\n"
     ]
    }
   ],
   "source": [
    "print(np.split(aa,3,axis = 1)) # split the array aa into 3 arrays. Axis = 1 : split based on columns"
   ]
  },
  {
   "cell_type": "code",
   "execution_count": 141,
   "metadata": {},
   "outputs": [
    {
     "name": "stdout",
     "output_type": "stream",
     "text": [
      "[array([[1, 2, 3]]), array([[4, 5, 6]]), array([], shape=(0, 3), dtype=int32)]\n"
     ]
    }
   ],
   "source": [
    "print(np.split(aa,[1,2],axis = 0)) # result of the split will be 3 arrays. Axis = 0 : split based on rows\n",
    "# 1st array = aa[:1]\n",
    "# 2nd array = aa[1:2]\n",
    "# 3rd array = aa[2:]"
   ]
  },
  {
   "cell_type": "code",
   "execution_count": 150,
   "metadata": {},
   "outputs": [
    {
     "name": "stdout",
     "output_type": "stream",
     "text": [
      "[array([[1],\n",
      "       [4]]), array([[2],\n",
      "       [5]]), array([[3],\n",
      "       [6]])]\n"
     ]
    }
   ],
   "source": [
    "print(np.split(aa,[1,2],axis = 1)) # result of the split will be 3 arrays. Axis = 1 : split based on columns\n",
    "# 1st array = aa[:,:1]\n",
    "# 2nd array = aa[:,1:2]\n",
    "# 3rd array = aa[:,2:]"
   ]
  },
  {
   "cell_type": "code",
   "execution_count": 154,
   "metadata": {},
   "outputs": [
    {
     "name": "stdout",
     "output_type": "stream",
     "text": [
      "Size of the list is  48000\n",
      "Size of the numpy array is  4000\n"
     ]
    }
   ],
   "source": [
    "# Numpy Vs List - memory size\n",
    "import sys\n",
    "\n",
    "# Define list\n",
    "x_list = range(1000)\n",
    "print('Size of the list is ', sys.getsizeof(x_list)*len(x_list))\n",
    "\n",
    "# Define a numpy array\n",
    "x_array = np.arange(1000)\n",
    "print('Size of the numpy array is ', x_array.size*x_array.itemsize)\n"
   ]
  },
  {
   "cell_type": "code",
   "execution_count": 162,
   "metadata": {},
   "outputs": [
    {
     "name": "stdout",
     "output_type": "stream",
     "text": [
      "In this example numpy is 60.091225357557015 times faster than list\n"
     ]
    }
   ],
   "source": [
    "# Numpy Vs List - Speed\n",
    "import time\n",
    "\n",
    "# Define list\n",
    "def using_list():\n",
    "    t1 = time.time() # Initializing Time\n",
    "    X = range(1000000)\n",
    "    Y = range(1000000)\n",
    "    Z = [X[i] +Y[i] for i in range(len(X))]\n",
    "    return time.time() - t1\n",
    "\n",
    "\n",
    "def using_numpy():\n",
    "    t1 = time.time() # Initializing Time\n",
    "    X = np.arange(1000000)\n",
    "    Y = np.arange(1000000)\n",
    "    Z = X + Y\n",
    "    return time.time() - t1\n",
    "\n",
    "list_time = using_list()\n",
    "numpy_time = using_numpy()\n",
    "\n",
    "print(\"In this example numpy is \" + str(list_time/numpy_time) + \" times faster than list\")"
   ]
  }
 ],
 "metadata": {
  "kernelspec": {
   "display_name": "Python 3",
   "language": "python",
   "name": "python3"
  },
  "language_info": {
   "codemirror_mode": {
    "name": "ipython",
    "version": 3
   },
   "file_extension": ".py",
   "mimetype": "text/x-python",
   "name": "python",
   "nbconvert_exporter": "python",
   "pygments_lexer": "ipython3",
   "version": "3.8.5"
  }
 },
 "nbformat": 4,
 "nbformat_minor": 4
}
